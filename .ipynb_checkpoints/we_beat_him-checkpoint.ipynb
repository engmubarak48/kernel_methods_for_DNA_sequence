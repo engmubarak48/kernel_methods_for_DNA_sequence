{
 "cells": [
  {
   "cell_type": "code",
   "execution_count": 163,
   "metadata": {},
   "outputs": [
    {
     "name": "stdout",
     "output_type": "stream",
     "text": [
      "Collecting bloom-filter\n",
      "  Downloading bloom_filter-1.3-py3-none-any.whl (8.8 kB)\n",
      "Installing collected packages: bloom-filter\n",
      "Successfully installed bloom-filter-1.3\n"
     ]
    }
   ],
   "source": [
    "!pip install pandarallel\n",
    "!pip install bloom-filter"
   ]
  },
  {
   "cell_type": "code",
   "execution_count": 17,
   "metadata": {
    "_cell_guid": "b1076dfc-b9ad-4769-8c92-a6c4dae69d19",
    "_uuid": "8f2839f25d086af736a60e9eeb907d3b93b6e0e5"
   },
   "outputs": [],
   "source": [
    "import numpy as np\n",
    "import pandas as pd\n",
    "import matplotlib.pyplot as plt\n",
    "import plotly.offline as py\n",
    "import sys\n",
    "\n",
    "import scipy.sparse as sp\n",
    "from collections import defaultdict"
   ]
  },
  {
   "cell_type": "code",
   "execution_count": 18,
   "metadata": {},
   "outputs": [
    {
     "name": "stdout",
     "output_type": "stream",
     "text": [
      "INFO: Pandarallel will run on 8 workers.\n",
      "INFO: Pandarallel will use Memory file system to transfer data between the main process and workers.\n"
     ]
    }
   ],
   "source": [
    "from pandarallel import pandarallel\n",
    "pandarallel.initialize(progress_bar=True)"
   ]
  },
  {
   "cell_type": "code",
   "execution_count": 19,
   "metadata": {
    "_cell_guid": "79c7e3d0-c299-4dcb-8224-4455121ee9b0",
    "_uuid": "d629ff2d2480ee46fbb7e2d37f6b5fab8052498a"
   },
   "outputs": [],
   "source": [
    "path = 'kernel-methods-ammi-2020/'\n",
    "\n",
    "Xtr = pd.read_csv(path + 'Xtr.csv', index_col=0)\n",
    "Xte = pd.read_csv(path + 'Xte.csv', index_col=0)\n",
    "Ytr = pd.read_csv(path + 'Ytr.csv', index_col=0)\n",
    "\n",
    "# Xtr_mat100 = pd.read_csv(path + 'Xtr_mat100.csv', header=None, sep=' ')\n",
    "# Xte_mat100 = pd.read_csv(path + 'Xte_mat100.csv', header=None, sep=' ')"
   ]
  },
  {
   "cell_type": "markdown",
   "metadata": {},
   "source": [
    "# Data Processing"
   ]
  },
  {
   "cell_type": "markdown",
   "metadata": {},
   "source": [
    "## Define function"
   ]
  },
  {
   "cell_type": "code",
   "execution_count": 28,
   "metadata": {},
   "outputs": [],
   "source": [
    "BASE = {'A':0, 'C':1, 'G':2, 'T':3}\n",
    "\n",
    "def word_to_index(word):\n",
    "    index = 0\n",
    "    for i, carac in enumerate(word):\n",
    "        index += BASE[carac] * (4 ** i)\n",
    "    return index\n",
    "\n",
    "def word_to_index_missmatch(word, k=1):\n",
    "    base_codes = []\n",
    "    for i, carac in enumerate(word):\n",
    "        base_codes += [BASE[carac] * (4 ** i)]\n",
    "    \n",
    "    base_index = sum(base_codes)\n",
    "    indices = [base_index]\n",
    "    if k >= 1:\n",
    "        for i, code  in enumerate(base_codes):\n",
    "            for j in range(4):\n",
    "                if j != BASE[word[i]]:\n",
    "                    index = base_index - code + j * 4**i\n",
    "                    indices.append(index)\n",
    "                    if k >=2:\n",
    "                        for i_, code_  in enumerate(base_codes):\n",
    "                            for j_ in range(4):\n",
    "                                if i_!=i and j_ != BASE[word[i_]] and j != BASE[word[i]]:\n",
    "                                    index = base_index - code + j * 4**i - code_ + j_ * 4**i_\n",
    "                                    indices.append(index)                   \n",
    "    return indices"
   ]
  },
  {
   "cell_type": "code",
   "execution_count": 4,
   "metadata": {},
   "outputs": [],
   "source": [
    "BASE  = {'A':0, 'C':1, 'G':2, 'T':3}\n",
    "CARAC = 'ACGT'\n",
    "\n",
    "def index_to_word(index, length=4):\n",
    "    word = ''\n",
    "    i = 1\n",
    "    while length>=i:\n",
    "        pos = index % 4\n",
    "        index = index // 4\n",
    "        word += CARAC[pos]\n",
    "        i += 1\n",
    "    return word"
   ]
  },
  {
   "cell_type": "code",
   "execution_count": 10,
   "metadata": {
    "collapsed": true,
    "jupyter": {
     "outputs_hidden": true
    }
   },
   "outputs": [
    {
     "name": "stdout",
     "output_type": "stream",
     "text": [
      "0 : AAA  -  0\n",
      "1 : CAA  -  1\n",
      "2 : GAA  -  1\n",
      "3 : TAA  -  1\n",
      "4 : ACA  -  1\n",
      "5 : CCA  -  2\n",
      "5 : CCA  -  2\n",
      "6 : GCA  -  2\n",
      "6 : GCA  -  2\n",
      "7 : TCA  -  2\n",
      "7 : TCA  -  2\n",
      "8 : AGA  -  1\n",
      "9 : CGA  -  2\n",
      "9 : CGA  -  2\n",
      "10 : GGA  -  2\n",
      "10 : GGA  -  2\n",
      "11 : TGA  -  2\n",
      "11 : TGA  -  2\n",
      "12 : ATA  -  1\n",
      "13 : CTA  -  2\n",
      "13 : CTA  -  2\n",
      "14 : GTA  -  2\n",
      "14 : GTA  -  2\n",
      "15 : TTA  -  2\n",
      "15 : TTA  -  2\n",
      "16 : AAC  -  1\n",
      "17 : CAC  -  2\n",
      "17 : CAC  -  2\n",
      "18 : GAC  -  2\n",
      "18 : GAC  -  2\n",
      "19 : TAC  -  2\n",
      "19 : TAC  -  2\n",
      "20 : ACC  -  2\n",
      "20 : ACC  -  2\n",
      "24 : AGC  -  2\n",
      "24 : AGC  -  2\n",
      "28 : ATC  -  2\n",
      "28 : ATC  -  2\n",
      "32 : AAG  -  1\n",
      "33 : CAG  -  2\n",
      "33 : CAG  -  2\n",
      "34 : GAG  -  2\n",
      "34 : GAG  -  2\n",
      "35 : TAG  -  2\n",
      "35 : TAG  -  2\n",
      "36 : ACG  -  2\n",
      "36 : ACG  -  2\n",
      "40 : AGG  -  2\n",
      "40 : AGG  -  2\n",
      "44 : ATG  -  2\n",
      "44 : ATG  -  2\n",
      "48 : AAT  -  1\n",
      "49 : CAT  -  2\n",
      "49 : CAT  -  2\n",
      "50 : GAT  -  2\n",
      "50 : GAT  -  2\n",
      "51 : TAT  -  2\n",
      "51 : TAT  -  2\n",
      "52 : ACT  -  2\n",
      "52 : ACT  -  2\n",
      "56 : AGT  -  2\n",
      "56 : AGT  -  2\n",
      "60 : ATT  -  2\n",
      "60 : ATT  -  2\n"
     ]
    }
   ],
   "source": [
    "indices = word_to_index_missmatch('AAA', missmatch=3)\n",
    "for i,idx in enumerate(sorted(indices)):\n",
    "    word = index_to_word(idx, 3)\n",
    "    mis_match = sum([1 for c in word if c!='A'])\n",
    "    print(idx,':',word,' - ',mis_match)"
   ]
  },
  {
   "cell_type": "code",
   "execution_count": 32,
   "metadata": {},
   "outputs": [],
   "source": [
    "import scipy.sparse as sp\n",
    "\n",
    "def count_occurences(seq, k, m=0):\n",
    "    index_size = 4 ** k\n",
    "    counts = np.zeros(index_size, dtype=int)\n",
    "        \n",
    "    for i in range(len(seq) - k + 1):\n",
    "        word = seq[i:(i+k)]\n",
    "        index = word_to_index_missmatch(word, m)\n",
    "        counts[index] += 1\n",
    "    \n",
    "    return sp.csr_matrix(counts)"
   ]
  },
  {
   "cell_type": "code",
   "execution_count": 124,
   "metadata": {},
   "outputs": [
    {
     "data": {
      "text/plain": [
       "1"
      ]
     },
     "execution_count": 124,
     "metadata": {},
     "output_type": "execute_result"
    }
   ],
   "source": [
    "def mismatch(sq1,sq2):\n",
    "    return sum([a!=b for a,b in zip(sq1,sq2)])\n",
    "mismatch('sq1','sq2')"
   ]
  },
  {
   "cell_type": "markdown",
   "metadata": {},
   "source": [
    "## Apply processing (be patient)"
   ]
  },
  {
   "cell_type": "code",
   "execution_count": 72,
   "metadata": {},
   "outputs": [],
   "source": [
    "k = 11\n",
    "m = 2"
   ]
  },
  {
   "cell_type": "code",
   "execution_count": 74,
   "metadata": {},
   "outputs": [
    {
     "data": {
      "application/vnd.jupyter.widget-view+json": {
       "model_id": "79380a09b0984f6eb1a103bb5c585626",
       "version_major": 2,
       "version_minor": 0
      },
      "text/plain": [
       "VBox(children=(HBox(children=(IntProgress(value=0, description='0.00%', max=250), Label(value='0 / 250'))), HB…"
      ]
     },
     "metadata": {},
     "output_type": "display_data"
    },
    {
     "name": "stdout",
     "output_type": "stream",
     "text": [
      "CPU times: user 4.56 s, sys: 1.23 s, total: 5.79 s\n",
      "Wall time: 1min 6s\n"
     ]
    },
    {
     "data": {
      "text/plain": [
       "(2000,)"
      ]
     },
     "execution_count": 74,
     "metadata": {},
     "output_type": "execute_result"
    }
   ],
   "source": [
    "%%time\n",
    "X_count = np.array(Xtr.seq.parallel_apply(count_occurences, k=k, m=m))\n",
    "X_count.shape"
   ]
  },
  {
   "cell_type": "code",
   "execution_count": 75,
   "metadata": {},
   "outputs": [
    {
     "data": {
      "application/vnd.jupyter.widget-view+json": {
       "model_id": "af921d9b3225447a974d8e5701e046a6",
       "version_major": 2,
       "version_minor": 0
      },
      "text/plain": [
       "VBox(children=(HBox(children=(IntProgress(value=0, description='0.00%', max=125), Label(value='0 / 125'))), HB…"
      ]
     },
     "metadata": {},
     "output_type": "display_data"
    },
    {
     "name": "stdout",
     "output_type": "stream",
     "text": [
      "CPU times: user 2.69 s, sys: 764 ms, total: 3.45 s\n",
      "Wall time: 34.9 s\n"
     ]
    },
    {
     "data": {
      "text/plain": [
       "(1000,)"
      ]
     },
     "execution_count": 75,
     "metadata": {},
     "output_type": "execute_result"
    }
   ],
   "source": [
    "%%time\n",
    "X_count_test = np.array(Xte.seq.parallel_apply(count_occurences, k=k, m=m))\n",
    "X_count_test.shape"
   ]
  },
  {
   "cell_type": "markdown",
   "metadata": {},
   "source": [
    "# Split data"
   ]
  },
  {
   "cell_type": "code",
   "execution_count": 76,
   "metadata": {},
   "outputs": [
    {
     "name": "stdout",
     "output_type": "stream",
     "text": [
      "Train : (1600,), Valid : (400,), \n"
     ]
    }
   ],
   "source": [
    "from sklearn.model_selection import train_test_split\n",
    "\n",
    "X_train_all = X_count\n",
    "y_train_all = Ytr.Bound.values\n",
    "y_train_all[ y_train_all==0 ] = -1\n",
    "\n",
    "X_train, X_val, y_train, y_val = train_test_split(\n",
    "    X_train_all, y_train_all, test_size=0.2, random_state=42)\n",
    "\n",
    "print(f'Train : {X_train.shape}, Valid : {X_val.shape}, ')"
   ]
  },
  {
   "cell_type": "markdown",
   "metadata": {},
   "source": [
    "# Model"
   ]
  },
  {
   "cell_type": "code",
   "execution_count": 77,
   "metadata": {},
   "outputs": [],
   "source": [
    "import cvxopt\n",
    "\n",
    "def cvxopt_qp(P, q, G, h, A, b):\n",
    "    P = .5 * (P + P.T)\n",
    "    cvx_matrices = [\n",
    "        cvxopt.matrix(M) if M is not None else None for M in [P, q, G, h, A, b] \n",
    "    ]\n",
    "    #cvxopt.solvers.options['show_progress'] = False\n",
    "    solution = cvxopt.solvers.qp(*cvx_matrices, options={'show_progress': False})\n",
    "    return np.array(solution['x']).flatten()\n",
    "\n",
    "solve_qp = cvxopt_qp"
   ]
  },
  {
   "cell_type": "code",
   "execution_count": 78,
   "metadata": {},
   "outputs": [],
   "source": [
    "def svm_dual_soft_to_qp_kernel(K, y, C=1):\n",
    "    n = K.shape[0]\n",
    "    assert (len(y) == n)\n",
    "        \n",
    "    # Dual formulation, soft margin\n",
    "    P = np.diag(y).dot(K).dot(np.diag(y))\n",
    "    # As a regularization, we add epsilon * identity to P\n",
    "    eps = 1e-12\n",
    "    P += eps * np.eye(n)\n",
    "    q = - np.ones(n)\n",
    "    G = np.vstack([-np.eye(n), np.eye(n)])\n",
    "    h = np.hstack([np.zeros(n), C * np.ones(n)])\n",
    "    A = y[np.newaxis, :]\n",
    "    A = A.astype('float')\n",
    "    b = np.array([0.])\n",
    "    return P, q, G, h, A, b\n",
    "\n",
    "# K = linear_kernel(X_train, X_train)\n",
    "# alphas = solve_qp(*svm_dual_soft_to_qp_kernel(K, y_train, C=10.))"
   ]
  },
  {
   "cell_type": "code",
   "execution_count": 80,
   "metadata": {},
   "outputs": [],
   "source": [
    "class KernelSVM(object):\n",
    "    '''\n",
    "    Kernel SVM Classification\n",
    "    \n",
    "    Methods\n",
    "    ----\n",
    "    fit\n",
    "    predict\n",
    "    '''\n",
    "    def __init__(self, C=0.1):\n",
    "        self.C = C\n",
    "        def sparse_dot(X1,X2):\n",
    "            X1 = sp.vstack(X1)\n",
    "            X2 = sp.vstack(X2)\n",
    "            X  = (X1@X2.T).toarray()\n",
    "            X = (X - X.mean()) / X.std() \n",
    "            return X\n",
    "        \n",
    "        self.kernel_function_ = sparse_dot\n",
    "\n",
    "    def fit(self, X, y, tol=1e-5):\n",
    "        #n, p = X.shape\n",
    "        #assert (n == len(y))\n",
    "    \n",
    "        self.X_train = X\n",
    "        self.y_train = y\n",
    "        \n",
    "        # Kernel matrix\n",
    "        K = self.kernel_function_(self.X_train, self.X_train)\n",
    "        \n",
    "        # Solve dual problem\n",
    "        self.alpha = solve_qp(*svm_dual_soft_to_qp_kernel(K, y, C=self.C))\n",
    "        \n",
    "        # Compute support vectors and bias b\n",
    "        sv = np.logical_and((self.alpha > tol), (self.C - self.alpha > tol))\n",
    "        self.bias = y[sv] - K[sv].dot(self.alpha * y)\n",
    "        #print(self.bias)\n",
    "        self.bias = self.bias.mean()\n",
    "\n",
    "        self.support_vector_indices = np.nonzero(sv)[0]\n",
    "\n",
    "        return self\n",
    "        \n",
    "    def decision_function(self, X):\n",
    "        K_x = self.kernel_function_(X, self.X_train)\n",
    "        return K_x.dot(self.alpha * self.y_train) + self.bias\n",
    "\n",
    "    def predict(self, X):\n",
    "        return np.sign(self.decision_function(X))\n",
    "    \n",
    "    def score(self, X, y):\n",
    "        pred = self.predict(X)\n",
    "        accuracy = np.mean(pred == y)\n",
    "        return accuracy\n",
    "    \n",
    "    ### For sklearn compatibility\n",
    "    def get_params(self, deep=True):\n",
    "        return {}\n",
    "\n",
    "    ### For sklearn compatibility\n",
    "    def set_params(self, **parameters):\n",
    "        for parameter, value in parameters.items():\n",
    "            setattr(self, parameter, value)\n",
    "        return self"
   ]
  },
  {
   "cell_type": "markdown",
   "metadata": {},
   "source": [
    "# Train"
   ]
  },
  {
   "cell_type": "code",
   "execution_count": null,
   "metadata": {},
   "outputs": [],
   "source": [
    "%%time\n",
    "model = KernelSVM(C=1000, power=3) #0.0005\n",
    "model.fit(X_train, y_train)"
   ]
  },
  {
   "cell_type": "code",
   "execution_count": null,
   "metadata": {},
   "outputs": [],
   "source": [
    "%%time\n",
    "acc_train = 100 * model.score(X_train, y_train)"
   ]
  },
  {
   "cell_type": "code",
   "execution_count": null,
   "metadata": {},
   "outputs": [],
   "source": [
    "%%time\n",
    "acc_val   = 100 * model.score(X_val,   y_val)"
   ]
  },
  {
   "cell_type": "code",
   "execution_count": null,
   "metadata": {},
   "outputs": [],
   "source": [
    "print(f'Train accuracy: {acc_train:.2f}')\n",
    "print(f'Valid accuracy: {acc_val:.2f}')"
   ]
  },
  {
   "cell_type": "code",
   "execution_count": null,
   "metadata": {},
   "outputs": [],
   "source": []
  },
  {
   "cell_type": "code",
   "execution_count": 45,
   "metadata": {},
   "outputs": [
    {
     "name": "stdout",
     "output_type": "stream",
     "text": [
      "mean score: 0.683 and std: 0.019131126469708996\n"
     ]
    }
   ],
   "source": [
    "print(f'mean score: {scores.mean()} and std: {scores.std()}')"
   ]
  },
  {
   "cell_type": "code",
   "execution_count": 53,
   "metadata": {
    "collapsed": true,
    "jupyter": {
     "outputs_hidden": true
    }
   },
   "outputs": [
    {
     "data": {
      "image/png": "[encoded data removed]",
      "text/plain": [
       "<Figure size 432x288 with 1 Axes>"
      ]
     },
     "metadata": {
      "needs_background": "light"
     },
     "output_type": "display_data"
    }
   ],
   "source": [
    "plt.bar(range(1,6), scores)\n",
    "plt.show()"
   ]
  },
  {
   "cell_type": "markdown",
   "metadata": {},
   "source": [
    "# Train for submission"
   ]
  },
  {
   "cell_type": "code",
   "execution_count": 85,
   "metadata": {},
   "outputs": [
    {
     "name": "stdout",
     "output_type": "stream",
     "text": [
      "CPU times: user 1min 13s, sys: 10.9 s, total: 1min 24s\n",
      "Wall time: 43 s\n"
     ]
    },
    {
     "data": {
      "text/plain": [
       "<__main__.KernelSVM at 0x7f36b3884198>"
      ]
     },
     "execution_count": 85,
     "metadata": {},
     "output_type": "execute_result"
    }
   ],
   "source": [
    "%%time\n",
    "model = KernelSVM(C=1)\n",
    "model.fit(X_train_all, y_train_all)\n",
    "\n",
    "# acc_train = 100 * clf.score(X_train, y_train)\n",
    "# #acc_val   = 100 * clf.score(X_val,   y_val)\n",
    "\n",
    "# #print(f'lambd={lambd:.2e}, sigma={sigma:.2f}')\n",
    "# print(f'Train accuracy: {acc_train:.2f}')"
   ]
  },
  {
   "cell_type": "markdown",
   "metadata": {},
   "source": [
    "## Submission"
   ]
  },
  {
   "cell_type": "code",
   "execution_count": 86,
   "metadata": {},
   "outputs": [
    {
     "name": "stdout",
     "output_type": "stream",
     "text": [
      "zeros: 476,  ones :524\n",
      "CPU times: user 19.8 s, sys: 259 ms, total: 20.1 s\n",
      "Wall time: 20 s\n"
     ]
    },
    {
     "data": {
      "text/html": [
       "<div>\n",
       "<style scoped>\n",
       "    .dataframe tbody tr th:only-of-type {\n",
       "        vertical-align: middle;\n",
       "    }\n",
       "\n",
       "    .dataframe tbody tr th {\n",
       "        vertical-align: top;\n",
       "    }\n",
       "\n",
       "    .dataframe thead th {\n",
       "        text-align: right;\n",
       "    }\n",
       "</style>\n",
       "<table border=\"1\" class=\"dataframe\">\n",
       "  <thead>\n",
       "    <tr style=\"text-align: right;\">\n",
       "      <th></th>\n",
       "      <th>Bound</th>\n",
       "    </tr>\n",
       "    <tr>\n",
       "      <th>Id</th>\n",
       "      <th></th>\n",
       "    </tr>\n",
       "  </thead>\n",
       "  <tbody>\n",
       "    <tr>\n",
       "      <th>0</th>\n",
       "      <td>1</td>\n",
       "    </tr>\n",
       "    <tr>\n",
       "      <th>1</th>\n",
       "      <td>0</td>\n",
       "    </tr>\n",
       "    <tr>\n",
       "      <th>2</th>\n",
       "      <td>0</td>\n",
       "    </tr>\n",
       "    <tr>\n",
       "      <th>3</th>\n",
       "      <td>0</td>\n",
       "    </tr>\n",
       "    <tr>\n",
       "      <th>4</th>\n",
       "      <td>1</td>\n",
       "    </tr>\n",
       "  </tbody>\n",
       "</table>\n",
       "</div>"
      ],
      "text/plain": [
       "    Bound\n",
       "Id       \n",
       "0       1\n",
       "1       0\n",
       "2       0\n",
       "3       0\n",
       "4       1"
      ]
     },
     "execution_count": 86,
     "metadata": {},
     "output_type": "execute_result"
    }
   ],
   "source": [
    "%%time\n",
    "pred = model.predict(X_count_test)\n",
    "pred[ pred == -1] = 0\n",
    "pred = pred.astype(int)\n",
    "\n",
    "zeros = (pred == 0).sum()\n",
    "ones = (pred == 1).sum()\n",
    "print(f'zeros: {zeros},  ones :{ones}')\n",
    "\n",
    "submission = pd.DataFrame({'Bound': pred})\n",
    "submission.index.name = 'Id'\n",
    "\n",
    "submission.head()"
   ]
  },
  {
   "cell_type": "code",
   "execution_count": 87,
   "metadata": {},
   "outputs": [],
   "source": [
    "submission.to_csv('submisson_beat_you.csv')"
   ]
  },
  {
   "cell_type": "code",
   "execution_count": 88,
   "metadata": {},
   "outputs": [
    {
     "name": "stdout",
     "output_type": "stream",
     "text": [
      "100%|██████████| 5.76k/5.76k [00:06<00:00, 844B/s]  \n",
      "Successfully submitted to Kernel Methods AMMI 2020"
     ]
    }
   ],
   "source": [
    "!kaggle competitions submit -c kernel-methods-ammi-2020 -f 'submisson_beat_you.csv' -m 'k=11 m=2'"
   ]
  },
  {
   "cell_type": "code",
   "execution_count": 89,
   "metadata": {},
   "outputs": [
    {
     "name": "stdout",
     "output_type": "stream",
     "text": [
      "fileName                date                 description                           status    publicScore  privateScore  \n",
      "----------------------  -------------------  ------------------------------------  --------  -----------  ------------  \n",
      "submisson_beat_you.csv  2020-06-01 10:19:44  k=11 m=2                              complete  0.68600      0.71400       \n",
      "submisson_beat_you.csv  2020-06-01 01:45:00  sparse                                complete  0.68800      0.70400       \n",
      "submisson_beat_you.csv  2020-06-01 01:14:00  sparse                                complete  0.68600      0.71400       \n",
      "submisson_beat_you.csv  2020-05-31 23:24:06  sparse                                complete  0.65800      0.67200       \n",
      "submission_test2.csv    2020-05-31 13:05:20                                        complete  0.67400      0.65600       \n",
      "submisson.csv           2020-05-27 16:19:35  max likehood on Xmat100               complete  0.59800      0.61200       \n",
      "submisson.csv           2020-05-26 20:47:07  max likehood on Xmat100               complete  0.58199      0.59600       \n",
      "submisson (2).csv       2020-05-25 20:19:47  everyone is zero                      complete  0.51600      0.48000       \n",
      "submisson (1).csv       2020-05-25 20:18:48  everyone is one                       complete  0.48400      0.52000       \n",
      "submisson.csv           2020-05-25 20:14:36  majority prediction, everyone is one  error     None         None          \n"
     ]
    }
   ],
   "source": [
    "!kaggle competitions submissions -c kernel-methods-ammi-2020"
   ]
  },
  {
   "cell_type": "code",
   "execution_count": 52,
   "metadata": {},
   "outputs": [],
   "source": [
    "# # My account\n",
    "# !mkdir ~/.kaggle/\n",
    "# !echo '{\"username\":\"jdomguia\",\"key\":\"4b8e8e86c7b89252ce1d7d4e6240213e\"}' > ~/.kaggle/kaggle.json\n",
    "# !chmod 600 ~/.kaggle/kaggle.json"
   ]
  },
  {
   "cell_type": "code",
   "execution_count": 116,
   "metadata": {},
   "outputs": [
    {
     "name": "stdout",
     "output_type": "stream",
     "text": [
      "mkdir: cannot create directory ‘/home/joseph/.kaggle/’: File exists\n"
     ]
    }
   ],
   "source": [
    "# # Hadia\n",
    "# !mkdir ~/.kaggle/\n",
    "# !echo '{\"username\":\"hadiasamil\",\"key\":\"cd72eb529c3b9d615068f36bc2dfbe83\"}' > ~/.kaggle/kaggle.json\n",
    "# !chmod 600 ~/.kaggle/kaggle.json"
   ]
  },
  {
   "cell_type": "code",
   "execution_count": null,
   "metadata": {},
   "outputs": [],
   "source": []
  }
 ],
 "metadata": {
  "kernelspec": {
   "display_name": "Python 3",
   "language": "python",
   "name": "python3"
  },
  "language_info": {
   "codemirror_mode": {
    "name": "ipython",
    "version": 3
   },
   "file_extension": ".py",
   "mimetype": "text/x-python",
   "name": "python",
   "nbconvert_exporter": "python",
   "pygments_lexer": "ipython3",
   "version": "3.7.3"
  }
 },
 "nbformat": 4,
 "nbformat_minor": 4
}
